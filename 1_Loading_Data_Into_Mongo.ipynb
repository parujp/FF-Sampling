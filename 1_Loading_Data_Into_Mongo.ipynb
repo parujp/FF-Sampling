{
 "cells": [
  {
   "cell_type": "markdown",
   "metadata": {},
   "source": [
    "# Loading data Into Mongo database"
   ]
  },
  {
   "cell_type": "code",
   "execution_count": 2,
   "metadata": {},
   "outputs": [
    {
     "name": "stdout",
     "output_type": "stream",
     "text": [
      "Mongo version 3.7.0\n"
     ]
    }
   ],
   "source": [
    "import pymongo\n",
    "from pymongo import MongoClient\n",
    "print( 'Mongo version', pymongo.__version__)"
   ]
  },
  {
   "cell_type": "code",
   "execution_count": 3,
   "metadata": {},
   "outputs": [],
   "source": [
    "# To connect to a MongoDB instance with authentication enabled, specify a URI in the following format:\n",
    "config = {\n",
    "  'host': '127.0.0.1',\n",
    "  'username': 'mongo_user',\n",
    "  'password': 'password',\n",
    "  'authSource': 'pin'\n",
    "}\n",
    "\n",
    "client = MongoClient(**config)\n",
    "\n",
    "db = client.pin\n",
    "collections=db.users\n"
   ]
  },
  {
   "cell_type": "code",
   "execution_count": 24,
   "metadata": {},
   "outputs": [
    {
     "name": "stderr",
     "output_type": "stream",
     "text": [
      "/home/ubuntu/anaconda3/lib/python3.6/site-packages/ipykernel_launcher.py:5: DeprecationWarning: insert is deprecated. Use insert_one or insert_many instead.\n",
      "  \"\"\"\n"
     ]
    }
   ],
   "source": [
    "with open('pnt-native-follower.csv') as file:\n",
    "    for index, line in enumerate(file):\n",
    "        fields = line.split('|')\n",
    "        obj = {'user_id':fields[0],'follower_count':fields[1], 'followers':fields[2:10000]}\n",
    "        collections.insert_one(obj)"
   ]
  },
  {
   "cell_type": "code",
   "execution_count": 25,
   "metadata": {},
   "outputs": [],
   "source": [
    "#Total number of nodes: 51400386"
   ]
  },
  {
   "cell_type": "code",
   "execution_count": null,
   "metadata": {},
   "outputs": [],
   "source": []
  }
 ],
 "metadata": {
  "kernelspec": {
   "display_name": "Python 3",
   "language": "python",
   "name": "python3"
  },
  "language_info": {
   "codemirror_mode": {
    "name": "ipython",
    "version": 3
   },
   "file_extension": ".py",
   "mimetype": "text/x-python",
   "name": "python",
   "nbconvert_exporter": "python",
   "pygments_lexer": "ipython3",
   "version": "3.6.4"
  }
 },
 "nbformat": 4,
 "nbformat_minor": 2
}
