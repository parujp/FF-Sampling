{
 "cells": [
  {
   "cell_type": "markdown",
   "metadata": {},
   "source": [
    "## 2 Forest Fire Sampling IV"
   ]
  },
  {
   "cell_type": "code",
   "execution_count": 1,
   "metadata": {},
   "outputs": [],
   "source": []
  },
  {
   "cell_type": "markdown",
   "metadata": {},
   "source": [
    "#### Building the model\n",
    "\n",
    "Models consist of __agents__ and the __environment__\n",
    "In the forest fire model, the agent is a tree and it's state can be\n",
    "- fine(unburned)\n",
    "- on fire\n",
    "- burnt\n",
    "\n",
    "\n",
    "The environment is the graph of pinterest users.\n",
    "\n",
    "\n",
    "BFS for graph to spread fire\n"
   ]
  },
  {
   "cell_type": "code",
   "execution_count": 1,
   "metadata": {},
   "outputs": [
    {
     "name": "stdout",
     "output_type": "stream",
     "text": [
      "Mongo version 3.7.0\n"
     ]
    }
   ],
   "source": [
    "import numpy as np\n",
    "from collections import deque\n",
    "import pymongo\n",
    "from pymongo import MongoClient\n",
    "print( 'Mongo version', pymongo.__version__)"
   ]
  },
  {
   "cell_type": "code",
   "execution_count": 2,
   "metadata": {},
   "outputs": [],
   "source": [
    "#main db\n",
    "config = {\n",
    "  'host': '127.0.0.1',\n",
    "  'username': 'mongo_user',\n",
    "  'password': 'password',\n",
    "  'authSource': 'pin'\n",
    "}\n",
    "\n",
    "client = MongoClient(**config)\n",
    "\n",
    "db = client.pin\n",
    "collection1=db.users\n",
    "collection2=db.sampled_users\n",
    "collection3=db.more_sampled\n",
    "collection4=db.sampled1\n",
    "collection5=db.sampled2"
   ]
  },
  {
   "cell_type": "code",
   "execution_count": 3,
   "metadata": {},
   "outputs": [],
   "source": [
    "### Forest Fire Model"
   ]
  },
  {
   "cell_type": "code",
   "execution_count": 5,
   "metadata": {},
   "outputs": [
    {
     "data": {
      "text/plain": [
       "<pymongo.results.DeleteResult at 0x7fe03373dbc8>"
      ]
     },
     "execution_count": 5,
     "metadata": {},
     "output_type": "execute_result"
    }
   ],
   "source": [
    "collection5.delete_many({})"
   ]
  },
  {
   "cell_type": "code",
   "execution_count": 6,
   "metadata": {},
   "outputs": [],
   "source": [
    "collection5.find_one()\n"
   ]
  },
  {
   "cell_type": "code",
   "execution_count": 79,
   "metadata": {},
   "outputs": [],
   "source": [
    "def burn_or_not(p = 1.0):\n",
    "    return (np.random.random() <=p)\n",
    "\n",
    "def select_node():\n",
    "    node = str(np.random.randint(1,50000000))\n",
    "    if node not in sampled:\n",
    "        return node\n",
    "\n",
    "def spread_the_fire_bfs(obj):\n",
    "    explored = set()\n",
    "    sampled = set()\n",
    "    collection5.delete_many({})\n",
    "    \n",
    "    sampled.add(obj['user_id'])\n",
    "    # keep track of explored nodes\n",
    "    # keep track of all the paths to be checked\n",
    "    queue = [obj['user_id']]\n",
    "    #print(queue)\n",
    "    while queue:\n",
    "        # pop first node from queue\n",
    "        current_user_id = queue.pop(0).strip()\n",
    "        if current_user_id not in explored:\n",
    "            #add node to list of explored nodes\n",
    "            explored.add(current_user_id)\n",
    "            #insert obj to collection2\n",
    "            object_to_add = collection1.find_one({'user_id': current_user_id})\n",
    "            if object_to_add is None:\n",
    "                continue\n",
    "            collection5.insert_one(object_to_add)\n",
    "              \n",
    "            burn = burn_or_not()\n",
    "            if True:\n",
    "                queue.extend(object_to_add['followers'])\n",
    "            \n",
    "        if collection5.count_documents({}) > 1000:\n",
    "            print(\"Early return\")\n",
    "            return\n",
    "\n",
    "def start_the_fire():\n",
    "    user_id = collection3.find_one({'follower_count': {'$eq': '10'}}, {'user_id': 1, '_id': 0})['user_id']\n",
    "    obj = collection1.find_one({'user_id':user_id})\n",
    "    return spread_the_fire_bfs(obj)"
   ]
  },
  {
   "cell_type": "code",
   "execution_count": 80,
   "metadata": {},
   "outputs": [
    {
     "name": "stdout",
     "output_type": "stream",
     "text": [
      "Early return\n"
     ]
    }
   ],
   "source": [
    "the_object = start_the_fire()\n",
    "    "
   ]
  },
  {
   "cell_type": "code",
   "execution_count": 81,
   "metadata": {},
   "outputs": [
    {
     "data": {
      "text/plain": [
       "1001"
      ]
     },
     "execution_count": 81,
     "metadata": {},
     "output_type": "execute_result"
    }
   ],
   "source": [
    "collection5.count_documents({})"
   ]
  },
  {
   "cell_type": "code",
   "execution_count": null,
   "metadata": {},
   "outputs": [],
   "source": []
  },
  {
   "cell_type": "code",
   "execution_count": 37,
   "metadata": {},
   "outputs": [
    {
     "data": {
      "text/plain": [
       "1"
      ]
     },
     "execution_count": 37,
     "metadata": {},
     "output_type": "execute_result"
    }
   ],
   "source": [
    "collection5.count_documents({})"
   ]
  },
  {
   "cell_type": "code",
   "execution_count": 14,
   "metadata": {},
   "outputs": [
    {
     "data": {
      "text/plain": [
       "1104"
      ]
     },
     "execution_count": 14,
     "metadata": {},
     "output_type": "execute_result"
    }
   ],
   "source": [
    "len(sampled)"
   ]
  },
  {
   "cell_type": "code",
   "execution_count": 83,
   "metadata": {},
   "outputs": [
    {
     "name": "stderr",
     "output_type": "stream",
     "text": [
      "/home/ubuntu/anaconda3/lib/python3.6/site-packages/ipykernel_launcher.py:1: DeprecationWarning: count is deprecated. Use Collection.count_documents instead.\n",
      "  \"\"\"Entry point for launching an IPython kernel.\n"
     ]
    }
   ],
   "source": [
    "x=collection5.find().count()"
   ]
  },
  {
   "cell_type": "code",
   "execution_count": 84,
   "metadata": {},
   "outputs": [
    {
     "data": {
      "text/plain": [
       "1001"
      ]
     },
     "execution_count": 84,
     "metadata": {},
     "output_type": "execute_result"
    }
   ],
   "source": [
    "x"
   ]
  },
  {
   "cell_type": "code",
   "execution_count": 85,
   "metadata": {},
   "outputs": [
    {
     "data": {
      "text/plain": [
       "{'user_id': '31018351'}"
      ]
     },
     "execution_count": 85,
     "metadata": {},
     "output_type": "execute_result"
    }
   ],
   "source": [
    "collection5.find_one({'follower_count': {'$eq': '10'}}, {'user_id': 1, '_id': 0})"
   ]
  },
  {
   "cell_type": "code",
   "execution_count": null,
   "metadata": {},
   "outputs": [],
   "source": []
  }
 ],
 "metadata": {
  "kernelspec": {
   "display_name": "Python 3",
   "language": "python",
   "name": "python3"
  },
  "language_info": {
   "codemirror_mode": {
    "name": "ipython",
    "version": 3
   },
   "file_extension": ".py",
   "mimetype": "text/x-python",
   "name": "python",
   "nbconvert_exporter": "python",
   "pygments_lexer": "ipython3",
   "version": "3.6.4"
  }
 },
 "nbformat": 4,
 "nbformat_minor": 2
}
