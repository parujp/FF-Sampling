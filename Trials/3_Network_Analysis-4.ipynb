{
 "cells": [
  {
   "cell_type": "code",
   "execution_count": 33,
   "metadata": {},
   "outputs": [
    {
     "name": "stdout",
     "output_type": "stream",
     "text": [
      "Mongo version 3.7.0\n"
     ]
    }
   ],
   "source": [
    "import numpy as np\n",
    "import pandas as pd\n",
    "from collections import deque\n",
    "import pymongo\n",
    "from pymongo import MongoClient\n",
    "print( 'Mongo version', pymongo.__version__)"
   ]
  },
  {
   "cell_type": "code",
   "execution_count": 34,
   "metadata": {},
   "outputs": [],
   "source": [
    "import networkx as nx\n",
    "import csv"
   ]
  },
  {
   "cell_type": "code",
   "execution_count": 35,
   "metadata": {},
   "outputs": [],
   "source": [
    "#main db\n",
    "config = {\n",
    "  'host': '127.0.0.1',\n",
    "  'username': 'mongo_user',\n",
    "  'password': 'password',\n",
    "  'authSource': 'pin'\n",
    "}\n",
    "\n",
    "client = MongoClient(**config)\n",
    "\n",
    "db = client.pin\n",
    "collection1=db.users\n",
    "collection2=db.sampled_users\n",
    "collection3=db.more_sampled\n",
    "collection4=db.sampled1\n",
    "collection5=db.sampled2"
   ]
  },
  {
   "cell_type": "code",
   "execution_count": 36,
   "metadata": {},
   "outputs": [
    {
     "name": "stderr",
     "output_type": "stream",
     "text": [
      "/home/ubuntu/anaconda3/lib/python3.6/site-packages/ipykernel_launcher.py:1: DeprecationWarning: count is deprecated. Use Collection.count_documents instead.\n",
      "  \"\"\"Entry point for launching an IPython kernel.\n"
     ]
    },
    {
     "data": {
      "text/plain": [
       "1001"
      ]
     },
     "execution_count": 36,
     "metadata": {},
     "output_type": "execute_result"
    }
   ],
   "source": [
    "collection5.find().count()"
   ]
  },
  {
   "cell_type": "code",
   "execution_count": 37,
   "metadata": {},
   "outputs": [],
   "source": [
    "data = pd.DataFrame(list(collection5.find()))"
   ]
  },
  {
   "cell_type": "code",
   "execution_count": 38,
   "metadata": {},
   "outputs": [
    {
     "data": {
      "text/html": [
       "<div>\n",
       "<style scoped>\n",
       "    .dataframe tbody tr th:only-of-type {\n",
       "        vertical-align: middle;\n",
       "    }\n",
       "\n",
       "    .dataframe tbody tr th {\n",
       "        vertical-align: top;\n",
       "    }\n",
       "\n",
       "    .dataframe thead th {\n",
       "        text-align: right;\n",
       "    }\n",
       "</style>\n",
       "<table border=\"1\" class=\"dataframe\">\n",
       "  <thead>\n",
       "    <tr style=\"text-align: right;\">\n",
       "      <th></th>\n",
       "      <th>_id</th>\n",
       "      <th>follower_count</th>\n",
       "      <th>followers</th>\n",
       "      <th>user_id</th>\n",
       "    </tr>\n",
       "  </thead>\n",
       "  <tbody>\n",
       "    <tr>\n",
       "      <th>0</th>\n",
       "      <td>5b98513fab17aa0737ca7cf9</td>\n",
       "      <td>10</td>\n",
       "      <td>[2207585, 2347, 607276, 15092978, 24751602, 66...</td>\n",
       "      <td>31018351</td>\n",
       "    </tr>\n",
       "    <tr>\n",
       "      <th>1</th>\n",
       "      <td>5b983063ab17aa07373d977a</td>\n",
       "      <td>107</td>\n",
       "      <td>[2597, 5859, 10103, 19993, 39442, 387249, 4835...</td>\n",
       "      <td>2207585</td>\n",
       "    </tr>\n",
       "  </tbody>\n",
       "</table>\n",
       "</div>"
      ],
      "text/plain": [
       "                        _id follower_count  \\\n",
       "0  5b98513fab17aa0737ca7cf9             10   \n",
       "1  5b983063ab17aa07373d977a            107   \n",
       "\n",
       "                                           followers   user_id  \n",
       "0  [2207585, 2347, 607276, 15092978, 24751602, 66...  31018351  \n",
       "1  [2597, 5859, 10103, 19993, 39442, 387249, 4835...   2207585  "
      ]
     },
     "execution_count": 38,
     "metadata": {},
     "output_type": "execute_result"
    }
   ],
   "source": [
    "data.head(2)"
   ]
  },
  {
   "cell_type": "code",
   "execution_count": 39,
   "metadata": {},
   "outputs": [],
   "source": [
    "data.drop(columns={'_id','follower_count'},inplace=True)"
   ]
  },
  {
   "cell_type": "code",
   "execution_count": 40,
   "metadata": {},
   "outputs": [
    {
     "data": {
      "text/html": [
       "<div>\n",
       "<style scoped>\n",
       "    .dataframe tbody tr th:only-of-type {\n",
       "        vertical-align: middle;\n",
       "    }\n",
       "\n",
       "    .dataframe tbody tr th {\n",
       "        vertical-align: top;\n",
       "    }\n",
       "\n",
       "    .dataframe thead th {\n",
       "        text-align: right;\n",
       "    }\n",
       "</style>\n",
       "<table border=\"1\" class=\"dataframe\">\n",
       "  <thead>\n",
       "    <tr style=\"text-align: right;\">\n",
       "      <th></th>\n",
       "      <th>followers</th>\n",
       "      <th>user_id</th>\n",
       "    </tr>\n",
       "  </thead>\n",
       "  <tbody>\n",
       "    <tr>\n",
       "      <th>0</th>\n",
       "      <td>[2207585, 2347, 607276, 15092978, 24751602, 66...</td>\n",
       "      <td>31018351</td>\n",
       "    </tr>\n",
       "    <tr>\n",
       "      <th>1</th>\n",
       "      <td>[2597, 5859, 10103, 19993, 39442, 387249, 4835...</td>\n",
       "      <td>2207585</td>\n",
       "    </tr>\n",
       "    <tr>\n",
       "      <th>2</th>\n",
       "      <td>[32771, 655368, 59965450, 24707083, 12386316, ...</td>\n",
       "      <td>2347</td>\n",
       "    </tr>\n",
       "    <tr>\n",
       "      <th>3</th>\n",
       "      <td>[40548736, 22282371, 60821509, 17453961, 10199...</td>\n",
       "      <td>607276</td>\n",
       "    </tr>\n",
       "    <tr>\n",
       "      <th>4</th>\n",
       "      <td>[1018492, 2702808, 5868116, 6009807, 8300652, ...</td>\n",
       "      <td>15092978</td>\n",
       "    </tr>\n",
       "  </tbody>\n",
       "</table>\n",
       "</div>"
      ],
      "text/plain": [
       "                                           followers   user_id\n",
       "0  [2207585, 2347, 607276, 15092978, 24751602, 66...  31018351\n",
       "1  [2597, 5859, 10103, 19993, 39442, 387249, 4835...   2207585\n",
       "2  [32771, 655368, 59965450, 24707083, 12386316, ...      2347\n",
       "3  [40548736, 22282371, 60821509, 17453961, 10199...    607276\n",
       "4  [1018492, 2702808, 5868116, 6009807, 8300652, ...  15092978"
      ]
     },
     "execution_count": 40,
     "metadata": {},
     "output_type": "execute_result"
    }
   ],
   "source": [
    "data.head()"
   ]
  },
  {
   "cell_type": "code",
   "execution_count": 41,
   "metadata": {},
   "outputs": [],
   "source": [
    "count=1001\n",
    "datalist=[]\n",
    "for index,row in data.iterrows():\n",
    "    nodes = [row['user_id']]\n",
    "    followers=row['followers']\n",
    "    if len(followers)!=0:\n",
    "        last=followers.pop()\n",
    "        followers.append(last.strip('\\n'))\n",
    "    nodes.extend(followers)\n",
    "    datalist.append(nodes)\n",
    "    count-=1\n",
    "    if count == 0:\n",
    "        break\n"
   ]
  },
  {
   "cell_type": "code",
   "execution_count": 42,
   "metadata": {},
   "outputs": [
    {
     "data": {
      "text/plain": [
       "1001"
      ]
     },
     "execution_count": 42,
     "metadata": {},
     "output_type": "execute_result"
    }
   ],
   "source": [
    "len(datalist)"
   ]
  },
  {
   "cell_type": "code",
   "execution_count": 43,
   "metadata": {},
   "outputs": [],
   "source": [
    "data.to_csv('sample4.txt',encoding='utf-8', index=False) #"
   ]
  },
  {
   "cell_type": "code",
   "execution_count": 44,
   "metadata": {},
   "outputs": [
    {
     "data": {
      "text/plain": [
       "(1, 2.861831571657301)"
      ]
     },
     "execution_count": 44,
     "metadata": {},
     "output_type": "execute_result"
    }
   ],
   "source": [
    "num_rows = 1001\n",
    "with open('newfun5.txt','w') as f:\n",
    "    writer=csv.writer(f,delimiter=' ')\n",
    "    writer.writerows(datalist[:num_rows])\n",
    "\n",
    "G=nx.read_adjlist('newfun5.txt')\n",
    "len(list(nx.connected_components(G))), len(G.edges()) / len(G.nodes())"
   ]
  },
  {
   "cell_type": "code",
   "execution_count": 45,
   "metadata": {},
   "outputs": [],
   "source": [
    "import matplotlib.pyplot as plt\n",
    "%matplotlib inline"
   ]
  },
  {
   "cell_type": "code",
   "execution_count": 53,
   "metadata": {},
   "outputs": [
    {
     "data": {
      "text/plain": [
       "583346"
      ]
     },
     "execution_count": 53,
     "metadata": {},
     "output_type": "execute_result"
    }
   ],
   "source": [
    "len(G.nodes())"
   ]
  },
  {
   "cell_type": "code",
   "execution_count": 54,
   "metadata": {},
   "outputs": [
    {
     "data": {
      "text/plain": [
       "1669438"
      ]
     },
     "execution_count": 54,
     "metadata": {},
     "output_type": "execute_result"
    }
   ],
   "source": [
    "len(G.edges())"
   ]
  },
  {
   "cell_type": "code",
   "execution_count": 55,
   "metadata": {},
   "outputs": [],
   "source": [
    "#for gephy\n",
    "with open('adj_list_sample4_new.csv','w') as f:\n",
    "    writer=csv.writer(f,delimiter=';')\n",
    "    writer.writerows(datalist[:])"
   ]
  },
  {
   "cell_type": "code",
   "execution_count": null,
   "metadata": {},
   "outputs": [],
   "source": []
  }
 ],
 "metadata": {
  "kernelspec": {
   "display_name": "Python 3",
   "language": "python",
   "name": "python3"
  },
  "language_info": {
   "codemirror_mode": {
    "name": "ipython",
    "version": 3
   },
   "file_extension": ".py",
   "mimetype": "text/x-python",
   "name": "python",
   "nbconvert_exporter": "python",
   "pygments_lexer": "ipython3",
   "version": "3.6.4"
  }
 },
 "nbformat": 4,
 "nbformat_minor": 2
}
